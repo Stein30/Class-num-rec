{
 "cells": [
  {
   "cell_type": "code",
   "execution_count": 1,
   "metadata": {},
   "outputs": [
    {
     "name": "stdout",
     "output_type": "stream",
     "text": [
      "context.prec:10\n",
      "     0.72365700000000\n",
      "-    0.72364900000000\n",
      "-----------\n",
      "     0.00000800000000\n",
      "context.prec:10\n",
      " 72365.69999999999709\n",
      "-    1.23659000000000\n",
      "-----------\n",
      " 72364.46340999999666\n",
      "context.prec:10\n",
      " 72365.69999999999709\n",
      "+    0.00100000000000\n",
      "-----------\n",
      " 72365.70100000000093\n"
     ]
    }
   ],
   "source": [
    "from decimal import *\n",
    "\n",
    "def pretty_p(result,a,b,operator):\n",
    "    print('context.prec:{}'.format(getcontext().prec))\n",
    "    print(' %20.14f' % (a))\n",
    "    print( '%1s%20.14f' % (operator, b))\n",
    "    print('-----------')\n",
    "    print( ' %20.14f' % (result))\n",
    "\n",
    "n = 10\n",
    "getcontext().prec = n\n",
    "\n",
    "a=Decimal('0.723657').quantize(Decimal(10) ** -n)\n",
    "b=Decimal('0.723649').quantize(Decimal(10) ** -n)\n",
    "pretty_p(a-b,a,b,'-')\n",
    "\n",
    "a=Decimal('0.723657').quantize(Decimal(10) ** -n)*100000\n",
    "b=Decimal('0.123659').quantize(Decimal(10) ** -n)*10\n",
    "pretty_p(a-b,a,b,'-')\n",
    "\n",
    "a=Decimal('0.723657').quantize(Decimal(10) ** -n)*100000\n",
    "b=Decimal('0.1').quantize(Decimal(10) ** -n)/100\n",
    "pretty_p(a+b,a,b,'+')"
   ]
  },
  {
   "cell_type": "code",
   "execution_count": 2,
   "metadata": {},
   "outputs": [
    {
     "name": "stdout",
     "output_type": "stream",
     "text": [
      "context.prec:5\n",
      "     0.72366000000000\n",
      "-    0.72365000000000\n",
      "-----------\n",
      "     0.00001000000000\n",
      "context.prec:5\n",
      " 72366.00000000000000\n",
      "-    1.23660000000000\n",
      "-----------\n",
      " 72365.00000000000000\n",
      "context.prec:5\n",
      " 72366.00000000000000\n",
      "+    0.00100000000000\n",
      "-----------\n",
      " 72366.00000000000000\n"
     ]
    }
   ],
   "source": [
    "n = 5 #5桁の丸め演算\n",
    "getcontext().prec = n\n",
    "\n",
    "a=Decimal('0.723657').quantize(Decimal(10) ** -n)\n",
    "b=Decimal('0.723649').quantize(Decimal(10) ** -n)\n",
    "pretty_p(a-b,a,b,'-')\n",
    "\n",
    "a=Decimal('0.723657').quantize(Decimal(10) ** -n)*100000\n",
    "b=Decimal('0.123659').quantize(Decimal(10) ** -n)*10\n",
    "pretty_p(a-b,a,b,'-')\n",
    "\n",
    "a=Decimal('0.723657').quantize(Decimal(10) ** -n)*100000\n",
    "b=Decimal('0.1').quantize(Decimal(10) ** -n)/100\n",
    "pretty_p(a+b,a,b,'+')"
   ]
  },
  {
   "cell_type": "code",
   "execution_count": null,
   "metadata": {},
   "outputs": [],
   "source": []
  }
 ],
 "metadata": {
  "kernelspec": {
   "display_name": "Python 3",
   "language": "python",
   "name": "python3"
  },
  "language_info": {
   "codemirror_mode": {
    "name": "ipython",
    "version": 3
   },
   "file_extension": ".py",
   "mimetype": "text/x-python",
   "name": "python",
   "nbconvert_exporter": "python",
   "pygments_lexer": "ipython3",
   "version": "3.7.3"
  }
 },
 "nbformat": 4,
 "nbformat_minor": 2
}
