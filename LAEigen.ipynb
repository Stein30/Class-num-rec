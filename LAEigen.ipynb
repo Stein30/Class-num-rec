{
 "cells": [
  {
   "cell_type": "code",
   "execution_count": null,
   "metadata": {},
   "outputs": [],
   "source": [
    "#チーム：ツイッター廃人\n",
    "#2701763７　27017691"
   ]
  },
  {
   "cell_type": "code",
   "execution_count": 7,
   "metadata": {},
   "outputs": [
    {
     "name": "stdout",
     "output_type": "stream",
     "text": [
      "array([1.+0.j, 9.+0.j, 2.+0.j])\n",
      "array([[-9.04534034e-01,  2.29415734e-01, -7.07106781e-01],\n",
      "       [-3.01511345e-01,  6.88247202e-01,  1.11022302e-16],\n",
      "       [ 3.01511345e-01, -6.88247202e-01,  7.07106781e-01]])\n",
      "array([-0.90453403, -0.30151134,  0.30151134])\n"
     ]
    }
   ],
   "source": [
    "import pprint\n",
    "import scipy.linalg   # SciPy Linear Algebra Library\n",
    "\n",
    "A = scipy.array([[0, 1, -2],[-3, 7 ,-3],[3, -5, 5]])\n",
    "l, V = scipy.linalg.eig(A)\n",
    "pprint.pprint(l)\n",
    "pprint.pprint(V)\n",
    "pprint.pprint(V[:,0]) # columnの取り出し方"
   ]
  },
  {
   "cell_type": "code",
   "execution_count": 8,
   "metadata": {},
   "outputs": [
    {
     "name": "stdout",
     "output_type": "stream",
     "text": [
      "⎡t  0  0⎤\n",
      "⎢       ⎥\n",
      "⎢0  t  0⎥\n",
      "⎢       ⎥\n",
      "⎣0  0  t⎦\n",
      "-t⋅(t - 7)⋅(t - 5) + 6⋅t + 18\n"
     ]
    },
    {
     "data": {
      "text/plain": [
       "[1, 2, 9]"
      ]
     },
     "execution_count": 8,
     "metadata": {},
     "output_type": "execute_result"
    }
   ],
   "source": [
    "from sympy import *\n",
    "t = symbols('t')\n",
    "A = Matrix([[0, 1, -2],[-3, 7 ,-3],[3, -5, 5]])\n",
    "xxx = diag(t,t,t)\n",
    "pprint(xxx)\n",
    "eq1 = simplify((A-xxx).det())\n",
    "pprint(eq1)\n",
    "solve(eq1,t)"
   ]
  },
  {
   "cell_type": "code",
   "execution_count": 9,
   "metadata": {},
   "outputs": [
    {
     "name": "stdout",
     "output_type": "stream",
     "text": [
      "array([0.35      , 0.16666667, 0.11666667, 0.05      , 0.26666667,\n",
      "       0.05      , 0.        ])\n",
      "array([0.69945653+0.j, 0.38286042+0.j, 0.32395882+0.j, 0.24296911+0.j,\n",
      "       0.41231122+0.j, 0.1030778 +0.j, 0.13989131+0.j])\n"
     ]
    }
   ],
   "source": [
    "from pprint import pprint\n",
    "from numpy import array, zeros, diagflat, dot, transpose\n",
    "from scipy.linalg import eig\n",
    "A = array([[0,1,1,1,1,0,1],\n",
    "           [1,0,0,0,0,0,0],\n",
    "           [1,1,0,0,0,0,0],\n",
    "           [0,1,1,0,1,0,0],\n",
    "           [1,0,1,1,0,1,0],\n",
    "           [1,0,0,0,1,0,0],\n",
    "           [0,0,0,0,1,0,0]]) #隣接行列\n",
    "\n",
    "diag = []\n",
    "for i in range(0,7):\n",
    "    tmp = 0.0\n",
    "    for j in range(0,7):\n",
    "        tmp += A[i,j]\n",
    "    diag.append(1.0/tmp)\n",
    "\n",
    "D = diagflat(diag)\n",
    "tA = dot(transpose(A),D) #転置\n",
    "\n",
    "x = array([1,0,0,0,0,0,0])\n",
    "pprint(dot(tA,dot(tA,x)))  #遷移\n",
    "\n",
    "l, V = eig(tA)\n",
    "v0 = V[:,0] \n",
    "pprint(v0) #規格化"
   ]
  },
  {
   "cell_type": "code",
   "execution_count": 10,
   "metadata": {},
   "outputs": [
    {
     "name": "stdout",
     "output_type": "stream",
     "text": [
      "array([[ 0.200,  0.000,  0.000,  0.000,  0.000,  0.000,  0.000],\n",
      "       [ 0.000,  1.000,  0.000,  0.000,  0.000,  0.000,  0.000],\n",
      "       [ 0.000,  0.000,  0.500,  0.000,  0.000,  0.000,  0.000],\n",
      "       [ 0.000,  0.000,  0.000,  0.333,  0.000,  0.000,  0.000],\n",
      "       [ 0.000,  0.000,  0.000,  0.000,  0.250,  0.000,  0.000],\n",
      "       [ 0.000,  0.000,  0.000,  0.000,  0.000,  0.500,  0.000],\n",
      "       [ 0.000,  0.000,  0.000,  0.000,  0.000,  0.000,  1.000]])\n",
      "array([[ 0.000,  1.000,  0.500,  0.000,  0.250,  0.500,  0.000],\n",
      "       [ 0.200,  0.000,  0.500,  0.333,  0.000,  0.000,  0.000],\n",
      "       [ 0.200,  0.000,  0.000,  0.333,  0.250,  0.000,  0.000],\n",
      "       [ 0.200,  0.000,  0.000,  0.000,  0.250,  0.000,  0.000],\n",
      "       [ 0.200,  0.000,  0.000,  0.333,  0.000,  0.500,  1.000],\n",
      "       [ 0.000,  0.000,  0.000,  0.000,  0.250,  0.000,  0.000],\n",
      "       [ 0.200,  0.000,  0.000,  0.000,  0.000,  0.000,  0.000]])\n"
     ]
    }
   ],
   "source": [
    "import numpy as np\n",
    "from pprint import pprint\n",
    "\n",
    "np.set_printoptions(formatter={'float': '{: 0.3f}'.format}) \n",
    "#pprint(A)\n",
    "pprint(D)\n",
    "#pprint(transpose(A))\n",
    "pprint(dot(transpose(A),D))\n",
    "x = array([1,0,0,0,0,0,0])\n",
    "#pprint(x)\n",
    "#pprint(dot(tA,dot(tA,dot(tA,x))))\n",
    "l, V = eig(tA)\n",
    "v0 = V[:,0]\n",
    "#pprint(v0)\n"
   ]
  }
 ],
 "metadata": {
  "kernelspec": {
   "display_name": "Python 3",
   "language": "python",
   "name": "python3"
  },
  "language_info": {
   "codemirror_mode": {
    "name": "ipython",
    "version": 3
   },
   "file_extension": ".py",
   "mimetype": "text/x-python",
   "name": "python",
   "nbconvert_exporter": "python",
   "pygments_lexer": "ipython3",
   "version": "3.7.3"
  }
 },
 "nbformat": 4,
 "nbformat_minor": 2
}
